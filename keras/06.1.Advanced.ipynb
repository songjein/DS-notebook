{
 "cells": [
  {
   "cell_type": "markdown",
   "metadata": {},
   "source": [
    "## 함수형 API"
   ]
  },
  {
   "cell_type": "markdown",
   "metadata": {},
   "source": [
    "* 기존의 시퀀셜 모델은 입력과 출력이 하나라고 가정함\n",
    "* But, 일부 네트워크는 개별 **입력이 여러 개** 필요하거나 **출력이 여러 개** 필요\n",
    "* 층이 차례대로 쌓이지 않고 층 사이가 연결된 **그래프 구조**도 있음\n",
    "\n",
    "\n",
    "* n개의 다른 모델을 별도로 트레이닝 해서 각 예측을 가중 평균(Weighted average)해야 하는 상황\n",
    "* 같은 피쳐에 대해 서로 다른 출력(장르, 시대 예측)을 동시에 내야 하는 경우 + 서로의 결과를 아는 것이 각각의 결과를 내는데에 도움이 될 때\n",
    "\n",
    "\n",
    "* 최근의 뉴럴넷은 **선형적이지 않은** 네트워크 토폴로지가 필요\n",
    "* **비순환 유향** 그래프 같은 구조 ex) 인셉션\n",
    "* 잔차 연결(**residual**) 추가하는 경향 ex) ResNet\n",
    "    - 하위 층의 출력 텐서를 상위 층의 출력 텐서에 더해서 아래층의 표현이 위쪽으로 흐를 수 있도록 하는 기법\n",
    "    - 하위 층의 학습 결과가 데이터 처리 과정에서 손실되는 것을 방지\n",
    "\n",
    "\n",
    "* 다중 입력, 다중 출력, 그래프 구조를 띈 모델을 만드는 법"
   ]
  },
  {
   "cell_type": "code",
   "execution_count": 1,
   "metadata": {},
   "outputs": [
    {
     "name": "stderr",
     "output_type": "stream",
     "text": [
      "Using TensorFlow backend.\n"
     ]
    }
   ],
   "source": [
    "from keras import Input, layers\n",
    "\n",
    "input_tensor = Input(shape=(32,)) # 텐서\n",
    "dense = layers.Dense(32, activation='relu') # 레이어 객체 (함수처럼 사용 가능)\n",
    "\n",
    "output_tensor = dense(input_tensor) # 텐서와 함께 레이어 호출시 텐서 반환"
   ]
  },
  {
   "cell_type": "markdown",
   "metadata": {},
   "source": [
    "## 기존의 Sequential Model"
   ]
  },
  {
   "cell_type": "code",
   "execution_count": 2,
   "metadata": {},
   "outputs": [],
   "source": [
    "from keras.models import Sequential, Model\n",
    "from keras import layers\n",
    "from keras import Input\n",
    "\n",
    "seq_model = Sequential()\n",
    "seq_model.add(layers.Dense(32, activation='relu', input_shape=(64,)))\n",
    "seq_model.add(layers.Dense(32, activation='relu'))\n",
    "seq_model.add(layers.Dense(10, activation='softmax'))"
   ]
  },
  {
   "cell_type": "markdown",
   "metadata": {},
   "source": [
    "## Functional API Model\n",
    "- input_tensor, output_tensor 정보를 알려주면 케라스가 중간에 연결된 층을 모두 추출하고\n",
    "- 모아 그래프 구조인 Model 객체 생성"
   ]
  },
  {
   "cell_type": "code",
   "execution_count": 3,
   "metadata": {},
   "outputs": [
    {
     "name": "stdout",
     "output_type": "stream",
     "text": [
      "_________________________________________________________________\n",
      "Layer (type)                 Output Shape              Param #   \n",
      "=================================================================\n",
      "input_2 (InputLayer)         (None, 64)                0         \n",
      "_________________________________________________________________\n",
      "dense_5 (Dense)              (None, 32)                2080      \n",
      "_________________________________________________________________\n",
      "dense_6 (Dense)              (None, 32)                1056      \n",
      "_________________________________________________________________\n",
      "dense_7 (Dense)              (None, 10)                330       \n",
      "=================================================================\n",
      "Total params: 3,466\n",
      "Trainable params: 3,466\n",
      "Non-trainable params: 0\n",
      "_________________________________________________________________\n"
     ]
    }
   ],
   "source": [
    "input_tensor = Input(shape=(64,))\n",
    "x = layers.Dense(32, activation='relu')(input_tensor)\n",
    "x = layers.Dense(32, activation='relu')(x)\n",
    "output_tensor = layers.Dense(10, activation='softmax')(x)\n",
    "\n",
    "model = Model(input_tensor, output_tensor)\n",
    "\n",
    "model.summary()"
   ]
  },
  {
   "cell_type": "markdown",
   "metadata": {},
   "source": [
    "## 이후의 컴파일, 트레이닝, 평가 과정은 같다"
   ]
  },
  {
   "cell_type": "code",
   "execution_count": 4,
   "metadata": {},
   "outputs": [
    {
     "name": "stdout",
     "output_type": "stream",
     "text": [
      "Epoch 1/10\n",
      "1000/1000 [==============================] - 0s 355us/step - loss: 11.5820\n",
      "Epoch 2/10\n",
      "1000/1000 [==============================] - 0s 17us/step - loss: 11.5348\n",
      "Epoch 3/10\n",
      "1000/1000 [==============================] - 0s 21us/step - loss: 11.5272\n",
      "Epoch 4/10\n",
      "1000/1000 [==============================] - 0s 22us/step - loss: 11.5221\n",
      "Epoch 5/10\n",
      "1000/1000 [==============================] - 0s 18us/step - loss: 11.5185\n",
      "Epoch 6/10\n",
      "1000/1000 [==============================] - 0s 20us/step - loss: 11.5141\n",
      "Epoch 7/10\n",
      "1000/1000 [==============================] - 0s 20us/step - loss: 11.5118\n",
      "Epoch 8/10\n",
      "1000/1000 [==============================] - 0s 21us/step - loss: 11.5083\n",
      "Epoch 9/10\n",
      "1000/1000 [==============================] - 0s 21us/step - loss: 11.5058\n",
      "Epoch 10/10\n",
      "1000/1000 [==============================] - 0s 19us/step - loss: 11.5034\n",
      "1000/1000 [==============================] - 0s 62us/step\n"
     ]
    }
   ],
   "source": [
    "model.compile(optimizer='rmsprop', loss='categorical_crossentropy')\n",
    "\n",
    "import numpy as np\n",
    "x_train = np.random.random((1000, 64))\n",
    "y_train = np.random.random((1000, 10))\n",
    "\n",
    "model.fit(x_train, y_train, epochs=10, batch_size=128)\n",
    "\n",
    "score = model.evaluate(x_train, y_train)"
   ]
  },
  {
   "cell_type": "markdown",
   "metadata": {},
   "source": [
    "## 다중 입력 모델\n",
    "- 텐서를 더하거나 이어 붙이는 식으로 서로 다른 입력을 합치는 층을 만들 수 있다\n",
    "    - keras.layers.add\n",
    "    - keras.layers.concatenate\n",
    "    - keras.layers.merge\n",
    "        - .average(), .maximum(), .minimum(), .multiply(), .subtract(), .dot()\n",
    "        \n",
    "        \n",
    "Question Answering model Example\n",
    "- Input: Question, Context => Output: Answer"
   ]
  },
  {
   "cell_type": "code",
   "execution_count": 5,
   "metadata": {},
   "outputs": [],
   "source": [
    "from keras.models import Model\n",
    "from keras import layers\n",
    "from keras import Input\n",
    "\n",
    "text_vocabulary_size = 10000\n",
    "question_vocabulary_size = 10000\n",
    "answer_vocabulary_size = 500\n",
    "\n",
    "text_input = Input(shape=(None,), \n",
    "                   dtype='int32', \n",
    "                   name='text') # 길이가 정해지지 않은 정수 시퀀스\n",
    "embedded_text = layers.Embedding(text_vocabulary_size, 64)(text_input)\n",
    "encoded_text = layers.LSTM(32)(embedded_text)\n",
    "\n",
    "question_input = Input(shape=(None,), \n",
    "                       dtype='int32', \n",
    "                       name='question')\n",
    "embedded_question = layers.Embedding(question_vocabulary_size, 32)(question_input)\n",
    "encoded_question = layers.LSTM(16)(embedded_question)\n",
    "\n",
    "concatenated = layers.concatenate([encoded_text, encoded_question],\n",
    "                                 axis=-1)\n",
    "\n",
    "answer = layers.Dense(answer_vocabulary_size,\n",
    "                     activation='softmax')(concatenated)\n",
    "\n",
    "model = Model([text_input, question_input], answer)\n",
    "model.compile(optimizer='rmsprop',\n",
    "             loss='categorical_crossentropy',\n",
    "             metrics=['acc'])"
   ]
  },
  {
   "cell_type": "markdown",
   "metadata": {},
   "source": [
    "학습"
   ]
  },
  {
   "cell_type": "code",
   "execution_count": 6,
   "metadata": {},
   "outputs": [
    {
     "name": "stdout",
     "output_type": "stream",
     "text": [
      "Epoch 1/10\n",
      "1000/1000 [==============================] - 3s 3ms/step - loss: 6.2145 - acc: 0.0040\n",
      "Epoch 2/10\n",
      "1000/1000 [==============================] - 1s 1ms/step - loss: 6.1982 - acc: 0.0340\n",
      "Epoch 3/10\n",
      "1000/1000 [==============================] - 1s 1ms/step - loss: 6.1447 - acc: 0.0090\n",
      "Epoch 4/10\n",
      "1000/1000 [==============================] - 1s 1ms/step - loss: 6.0642 - acc: 0.0070\n",
      "Epoch 5/10\n",
      "1000/1000 [==============================] - 1s 1ms/step - loss: 6.0148 - acc: 0.0080\n",
      "Epoch 6/10\n",
      "1000/1000 [==============================] - 1s 1ms/step - loss: 5.9582 - acc: 0.0170\n",
      "Epoch 7/10\n",
      "1000/1000 [==============================] - 1s 1ms/step - loss: 5.8909 - acc: 0.0130\n",
      "Epoch 8/10\n",
      "1000/1000 [==============================] - 1s 1ms/step - loss: 5.8117 - acc: 0.0190\n",
      "Epoch 9/10\n",
      "1000/1000 [==============================] - 1s 1ms/step - loss: 5.7367 - acc: 0.0190\n",
      "Epoch 10/10\n",
      "1000/1000 [==============================] - 1s 1ms/step - loss: 5.6580 - acc: 0.0220\n"
     ]
    },
    {
     "data": {
      "text/plain": [
       "<keras.callbacks.History at 0x7f6b89e3e550>"
      ]
     },
     "execution_count": 6,
     "metadata": {},
     "output_type": "execute_result"
    }
   ],
   "source": [
    "import numpy as np\n",
    "from keras.utils import to_categorical\n",
    "\n",
    "num_samples = 1000\n",
    "max_length = 100\n",
    "\n",
    "text = np.random.randint(1, text_vocabulary_size, size=(num_samples, max_length))\n",
    "question = np.random.randint(1, question_vocabulary_size, size=(num_samples, max_length))\n",
    "\n",
    "answers = np.random.randint(0, answer_vocabulary_size, size=num_samples)\n",
    "answers = to_categorical(answers) # one-hot 인코딩 벡터\n",
    "\n",
    "# 1\n",
    "#model.fit([text, question], answers, epochs=10, batch_size=128)\n",
    "\n",
    "# 2, dict 입력, name 지정시에만 가능\n",
    "model.fit({'text': text, 'question': question}, answers, epochs=10, batch_size=128)"
   ]
  },
  {
   "cell_type": "markdown",
   "metadata": {},
   "source": [
    "## 다중 출력 모델\n",
    "\n",
    "사용자 포스트 입력 받아 나이, 성별, 소득 수준 예측"
   ]
  },
  {
   "cell_type": "code",
   "execution_count": 10,
   "metadata": {},
   "outputs": [],
   "source": [
    "from keras import layers\n",
    "from keras import Input\n",
    "from keras.models import Model\n",
    "vocabulary_size = 50000\n",
    "num_incom_groups = 10\n",
    "\n",
    "posts_input = Input(shape=(None,), dtype='int32', name='posts')\n",
    "embedded_posts = layers.Embedding(vocabulary_size, 256)(posts_input)\n",
    "x = layers.Conv1D(128, 5, activation='relu')(embedded_posts)\n",
    "x = layers.MaxPooling1D(5)(x)\n",
    "x = layers.Conv1D(256, 5, activation='relu')(x)\n",
    "x = layers.Conv1D(256, 5, activation='relu')(x)\n",
    "x = layers.MaxPooling1D(5)(x)\n",
    "x = layers.Conv1D(256, 5, activation='relu')(x)\n",
    "x = layers.Conv1D(256, 5, activation='relu')(x)\n",
    "x = layers.GlobalMaxPooling1D()(x)\n",
    "x = layers.Dense(128, activation='relu')(x)\n",
    "\n",
    "age_prediction = layers.Dense(1, name='age')(x)\n",
    "income_prediction = layers.Dense(num_incom_groups, activation='softmax', name='income')(x)\n",
    "gender_prediction = layers.Dense(1, activation='sigmoid', name='gender')(x)\n",
    "\n",
    "model = Model(posts_input, [age_prediction, income_prediction, gender_prediction])"
   ]
  },
  {
   "cell_type": "markdown",
   "metadata": {},
   "source": [
    "트레이닝\n",
    "- Gradient Descent는 하나의 스칼라 값을 최소화하기 때문에 이 모델을 트레이닝 시키기 위해선\n",
    "    - 손실들을 하나의 값으로 합쳐야 한다.\n",
    "    - but, 손실값들이 불균형할 경우 Loss가 가장 큰 값에 치우쳐 표현들을 최적화하기 때문에, 다른 작업들이 손해를 볼 수\n",
    "    - 따라서 Loss 값이 최종 Loss에 기여하는 수준을 정할 수도 있다.\n",
    "        - 특히 스케일이 다를 때, 예를들어 mse는 일반적으로 3~5사이의 값을 가진다면, 크로스엔트로피 loss는 0.1 정도로 낮음\n",
    "        - 이런 경우 전자에 가중치 0.25, 후자에 가중치 10을 주는 식으로 구성할 수 있다."
   ]
  },
  {
   "cell_type": "code",
   "execution_count": 14,
   "metadata": {},
   "outputs": [],
   "source": [
    "model.compile(optimizer='rmsprop',\n",
    "             loss=['mse', 'categorical_crossentropy', 'binary_crossentropy'])\n",
    "\n",
    "# 출력층에 이름 지정한 경우에만 가능\n",
    "model.compile(optimizer='rmsprop',\n",
    "             loss={'age': 'mse',\n",
    "                  'income': 'categorical_crossentropy',\n",
    "                  'gender': 'binary_crossentropy'})\n",
    "\n",
    "model.compile(optimizer='rmsprop',\n",
    "             loss=['mse', 'categorical_crossentropy', 'binary_crossentropy'],\n",
    "             loss_weights=[0.25, 1., 10.])\n",
    "\n",
    "model.compile(optimizer='rmsprop',\n",
    "             loss={'age': 'mse',\n",
    "                  'income': 'categorical_crossentropy',\n",
    "                  'gender': 'binary_crossentropy'},\n",
    "             loss_weights={'age': 0.25,\n",
    "                          'income': 1.,\n",
    "                          'gender': 10.})"
   ]
  },
  {
   "cell_type": "markdown",
   "metadata": {},
   "source": [
    "fit은 다음과 같이\n",
    "```py\n",
    "model.fit(posts, [age_targets, income_targets, gender_targets],\n",
    "          epochs=10, batch_size=64)\n",
    "\n",
    "model.fit(posts, {'age': age_targets,\n",
    "                 'income': income_targets,\n",
    "                 'gender': gender_Targets},\n",
    "         epochs=10, batch_size=64)\n",
    "```"
   ]
  },
  {
   "cell_type": "markdown",
   "metadata": {},
   "source": [
    "## Directed Asyclic Graph\n",
    "- 함수형 API를 통해 토폴로지가 복잡한 네트워크도 만들 수 있다.\n",
    "    - 인셉션 모듈(Inception)\n",
    "        - Inception https://arxiv.org/abs/1409.4842\n",
    "        - Network in Network https://arxiv.org/abs/1312.4400\n",
    "        - Inception V2, V3, https://arxiv.org/abs/1512.00567\n",
    "        - Inception V4, https://arxiv.org/abs/1602.07261\n",
    "        - keras.applications.inception_v3.InceptionV3에 네트워크 구조 및 사전 훈련 가중치 포함\n",
    "        - 엑셉션(Xception)\n",
    "            - https://arxiv.org/abs/1610.02357\n",
    "            - **깊이별 합성곱 적용(depthwise conv** ; 각 입력 채널에 각각 적용되는 공간 방향 합성곱)\n",
    "            - 인셉션 모듈의 극한 형태로 공간 특성과 채널 방향 특성 완전 분리\n",
    "            - layers.SeparableConv2D 합성곱 사용 (채널에 각각 3x3 수행, 채널을 늘리지 않는 연산)\n",
    "            - 그 다음 1x1 conv 적용함으로써 채널 수 늘림\n",
    "            - keras.applications.xception.Xception\n",
    "            - 인셉션 보다 더 빠르고 정확도가 높음(?)\n",
    "    - 잔차 연결(Residual Connection)"
   ]
  },
  {
   "cell_type": "markdown",
   "metadata": {},
   "source": [
    "![inception](./inception.png)"
   ]
  },
  {
   "cell_type": "markdown",
   "metadata": {},
   "source": [
    "* **1x1 conv** (Network in Network논문에서 소개)\n",
    "    - conv는 입력 텐서에서 타일 주변의 패치를 추출하고 각 패치에 동일한 연산을 수행\n",
    "    - **1x1 conv(pointwise convolution)**는 패치가 하나의 타일 인 케이스\n",
    "        - 이 conv연산은 모든 타일 벡터를 하나의 Dense층에 통과시키는 것과 동일\n",
    "        - 즉, **입력 텐서의 채널 정보를 혼합한 특성 계산**으로 공간 방향으로는 정보를 섞지 않는다 (한번에 하나의 타일만 고려)\n",
    "        - **채널 방향의 특성 학습과 공간 방향의 특성 학습을 분리**하는데 도움을 준다.\n",
    "        \n",
    "인셉션 모듈은 대략 다음과 같이 구현된다  \n",
    "(실제로는 padding='same' 옵션으로 출력 크기를 맞춤)"
   ]
  },
  {
   "cell_type": "markdown",
   "metadata": {},
   "source": [
    "```py\n",
    "from keras import layers\n",
    "\n",
    "# x : 4D tensor\n",
    "\n",
    "branch_a =  layers.Conv2D(128, 1, activation='relu', strides=2)(x)\n",
    "\n",
    "branch_b = layers.Conv2D(128, 1, activation='relu')(x)\n",
    "branch_b = layers.Conv2D(128, 3, activation='relu', strides=2)(branch_b)\n",
    "\n",
    "branch_c = layers.AveragePooling2D(3, strides=2)(X)\n",
    "branch_c = layers.Conv2D(128, 3, activation='relu')(branch_c)\n",
    "\n",
    "branch_d = layers.Conv2D(128, 1, activation='relu')(x)\n",
    "branch_d = layer.Conv2D(128, 3, activation='relu')(branch_d)\n",
    "branch_d = layers.Conv2D(128, 3, activation='relu', strides=2)(branch_d)\n",
    "\n",
    "output = layers.concatenate([branch_a, branch_b, branch_c, branch_d], axis=-1)\n",
    "```"
   ]
  },
  {
   "cell_type": "markdown",
   "metadata": {},
   "source": [
    "* **Residual Connection**\n",
    "    - **Vanishing Gradient**와\n",
    "        - 트레이닝 알고리즘의 핵심인 역전파는 출력 손실에서 얻은 피드백을 하위층에 전파한다.\n",
    "        - 이 때 신호가 **깊이 쌓인 층을 통해 전파되면 신호가 사라지거나 사라질 수** 있다.\n",
    "            - LSTM은 별도의 트랙을 나란히 두어 중요정보를 유지함으로써 해결하였고\n",
    "            - Residual Connection에선 특정 레이어에 나란히 단순한 선형 정보를 실어 나름으로써 해결\n",
    "                - 하위 층의 출력과 상위 층의 출력을 그대로 더했으므로, 그래디언트가 그대로 잔차 연결을 따라 하위층으로 전달된다.\n",
    "                - 잔차 연결을 따라 내려온 그래디언트는 메인 네트워크 층을 거쳐 줄어든 그래디언트와 더해진다.\n",
    "    - **Representational bottleneck** 해결\n",
    "        - Sequential 모델에서 표현 학습을 위한 층은 다른 층 위에 놓인다.\n",
    "            - 어떤 층은 이전 층의 활성화 출력 정보만 사용\n",
    "            - 이전 층이 너무 저차원이면 다음 층이 표현할 수 있는 정도가 제한될 수 (모델 성능 좌우)\n",
    "        - 따라서 잔차 연결을 통해 하위 층의 정보를 다시 주입함으로써 손실된 정보를 복원할 수 있게 해줌\n",
    "    - 일반적으로 10개 층 이상을 가진 모델에 잔차 연결을 추가하면 도움이 된다\n",
    "    - **하위 층의 출력을 상위 층의 입력**으로 사용하는 기법"
   ]
  },
  {
   "cell_type": "markdown",
   "metadata": {},
   "source": [
    "특성 맵의 크기가 같을 때 원본을 그대로 사용하는 Residual Connection 예시"
   ]
  },
  {
   "cell_type": "markdown",
   "metadata": {},
   "source": [
    "```py\n",
    "x = ...4D tensor\n",
    "y = layers.Conv2D(128, 3, activation='relu', padding='same')(x)\n",
    "y = layers.Conv2D(128, 3, activation='relu', padding='same')(y)\n",
    "y = layers.Conv2D(128, 3, activation='relu', padding='same')(y)\n",
    "\n",
    "y = layers.add([y, x]) # 원본 x를 출력 특성에 더함 (두 출력의 크기가 동일해야 한다)\n",
    "```"
   ]
  },
  {
   "cell_type": "markdown",
   "metadata": {},
   "source": [
    "특성 맵의 크기가 다를 때 선형 변환을 사용해서 Residual Connection을 구현한 예"
   ]
  },
  {
   "cell_type": "markdown",
   "metadata": {},
   "source": [
    "```py\n",
    "x = ...4D tensor\n",
    "y = layers.Conv2D(128, 3, activation='relu', padding='same')(x)\n",
    "y = layers.Conv2D(128, 3, activation='relu', padding='same')(y)\n",
    "y = layers.MaxPooling2D(2, strides=2)(y)\n",
    "\n",
    "residual = layers.Conv2D(128, 1, strides=2, padding='same')(x) # y와 크기 맞추기 위해 1x1 conv적용 => 원본 x 다운샘플링\n",
    "\n",
    "y = layers.add([y, residual])\n",
    "```"
   ]
  },
  {
   "cell_type": "markdown",
   "metadata": {},
   "source": [
    "## 층 가중치 공유\n",
    "- 함수형 API를 통해, **레이어 객체를 여러번 재사용** 가능\n",
    "- 레이어 두번 호출 시 각 호출에 동일한 가중치 재사용\n",
    "- **표현을 공유**하고, **다른 입력에서 함께 학습**\n",
    "    - ex) 2 문장의 유사도 판별 모델\n",
    "        - 각 문장을 인코딩 하는 레이어가 서로 다를 필요가 없다\n",
    "        - 두 문장의 순서가 바뀔 수도 있고, 의미가 비슷하다는 것은 대칭 관계를 의미\n",
    "        - 독립된 2개의 레이어를 학습하는 대신, 하나의 LSTM 층으로 양쪽 모두 처리\n",
    "        - **Siamese LSTM** 혹은 **공유 LSTM**이라 부름"
   ]
  },
  {
   "cell_type": "code",
   "execution_count": 15,
   "metadata": {},
   "outputs": [],
   "source": [
    "from keras import layers\n",
    "from keras import Input\n",
    "from keras.models import Model\n",
    "\n",
    "lstm = layers.LSTM(32)\n",
    "left_input = Input(shape=(None, 128)) # 128 차원의 가변길이 시퀀스\n",
    "left_output = lstm(left_input)\n",
    "\n",
    "right_input = Input(shape=(None, 128))\n",
    "right_output = lstm(right_input)\n",
    "\n",
    "merged = layers.concatenate([left_output, right_output], axis=-1)\n",
    "predictions = layers.Dense(1, activation='sigmoid')(merged)\n",
    "\n",
    "model = Model([left_input, right_input], predictions)\n",
    "# model.fit([left_data, right_data], targets) # 양쪽 입력을 바탕으로 가중치 업데이트"
   ]
  },
  {
   "cell_type": "markdown",
   "metadata": {},
   "source": [
    "## 층과 모델\n",
    "- 함수형 API에서는 모델을 층처럼 사용 가능 (마치 커다란 층)\n",
    "    - ex) y = model(x)\n",
    "    - ex) y1, y2 = model([x1, x2]) # 입력 텐서 및 출력 텐서가 여러개 인경우\n",
    "- 모델 객체를 호출할 경우 가중치가 재사용됨\n",
    "    - ex) 깊이를 감지하기 위한, 듀얼 카메라 입력 (사진 2장) "
   ]
  },
  {
   "cell_type": "code",
   "execution_count": 16,
   "metadata": {},
   "outputs": [],
   "source": [
    "from keras import layers\n",
    "from keras import applications\n",
    "from keras import Input\n",
    "\n",
    "xception_base = applications.Xception(weights=None, include_top=False) # 최상단의 분류기 제외(전역 평균 풀링 및 FC Layer)\n",
    "\n",
    "left_input = Input(shape=(250, 250, 3))\n",
    "right_input = Input(shape=(250, 250, 3))\n",
    "\n",
    "left_features = xception_base(left_input)\n",
    "right_features = xception_base(right_input)\n",
    "\n",
    "merged_features = layers.concatenate([left_features, right_features], axis=-1)"
   ]
  }
 ],
 "metadata": {
  "kernelspec": {
   "display_name": "Python 3",
   "language": "python",
   "name": "python3"
  },
  "language_info": {
   "codemirror_mode": {
    "name": "ipython",
    "version": 3
   },
   "file_extension": ".py",
   "mimetype": "text/x-python",
   "name": "python",
   "nbconvert_exporter": "python",
   "pygments_lexer": "ipython3",
   "version": "3.6.8"
  }
 },
 "nbformat": 4,
 "nbformat_minor": 2
}
