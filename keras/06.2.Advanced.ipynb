{
 "cells": [
  {
   "cell_type": "markdown",
   "metadata": {},
   "source": [
    "## 고급 구조 패턴\n",
    "- 배치 정규화\n",
    "- 깊이별 분리 합성곱"
   ]
  },
  {
   "cell_type": "markdown",
   "metadata": {},
   "source": [
    "## 배치 정규화\n",
    "- 정규화(normalization)\n",
    "    - 입력 샘플들을 균일하게 만드는 광범위한 방법\n",
    "    - normalized_data = (data - np.mean(data, axis=...)) / np.std(data, axis=...)\n",
    "    - 이전 까지는 모델에 입력하기 전단계에서 정규화했음\n",
    "        - 하지만 데이터 정규화는 네트워크에서 일어나는 모든 변환 후에도 고려되어야!\n",
    "- **BatchNormalization**\n",
    "    - https://arxiv.org/abs/1502.03167\n",
    "    - 트레이닝 하는 동안 평균과 분산이 바뀌더라도 적응해서 데이터 정규화\n",
    "    - 트레이닝 과정에 사용된 배치 데이터의 평균과 분산에 대한 **지수 이동 평균**을 내부에 유지\n",
    "        - 즉, 입력 배치(들)의 평균과 표준 편차를 Exponential Moving Average를 통해 계산함으로써 전체 데이터셋에 대한 평균/표준편차를 대신한다.\n",
    "            - 이값은 테스트 데이터에 정규화가 적용될 때도 사용됨\n",
    "            - v = v * momentum + v_new * (1 - momentum)으로 계산되며 mementum 기본값은 0.99\n",
    "        - 깊은 네트워크 구성 가능\n",
    "            - 입력에 비해 활성화 함수의 출력이 너무 작거나 큰 경우 \n",
    "            - 예를들어 변화율이 급격히 작아진다면 역전파되는 그래디언트도 줄어들게 되므로,\n",
    "            - 배치 정규화를 쓰면 입출력의 분포를 유지하도록 도와주어 그래디언트 전파가 잘된다\n",
    "        - 그냥 간단히 **`model.add(layers.BatchNormalization())`** 만 추가하면 됨\n",
    "            - 일반적으로 Conv 나 Dense 다음에 추가한다\n",
    "            - axis=-1 default (channels_last 인 경우만)\n",
    "            - axis=1 => channels_first인 경우"
   ]
  },
  {
   "cell_type": "markdown",
   "metadata": {},
   "source": [
    "## 배치 정규화 이후\n",
    "- 배치 재정규화(batch renormalization)\n",
    "    - https://arxiv.org/abs/1702.03275\n",
    "\n",
    "## 초기화 방법\n",
    "- lecun_normal\n",
    "    - initializers.lecun_normal() 입력 유닛 개수의 역수에 대한 제곱근을 표준 편차로 하는 절단 정규 분포로 가중치 초기화 하는 방법"
   ]
  },
  {
   "cell_type": "markdown",
   "metadata": {},
   "source": [
    "## 깊이별 분리 합성곱\n",
    "- Conv2D보다 더 가벼워(파라미터 적음), 더 빨라(부동 소수 연산이 더 적음), 모델의 성능을 높일 수도 있는 레이어\n",
    "- depthwise separable convolution\n",
    "    - SeparableConv2D\n",
    "        1. 입력 채널별로 따로따로 공간 방향의 합성곱 수행 후\n",
    "        2. 그 이후에 pointwise conv(1x1 conv)를 통해 출력 채널 합쳐준다\n",
    "    - **공간 특성의 학습과 채널 방향 특성의 학습을 분리**하는 효과\n",
    "    - 입력에서 공간상의 위치는 상관관계가 크지만 채널별로는 매우 독립적일 경우 타당\n",
    "    - 작고 더 빠른 모델을 만들어줌\n",
    "- 엑셉션(Xception)에 깊이별 분리 합성곱에 대한 이론적 배경 소개함"
   ]
  },
  {
   "cell_type": "code",
   "execution_count": 2,
   "metadata": {},
   "outputs": [
    {
     "name": "stderr",
     "output_type": "stream",
     "text": [
      "Using TensorFlow backend.\n"
     ]
    }
   ],
   "source": [
    "from keras.models import Sequential, Model\n",
    "from keras import layers\n",
    "\n",
    "height = 64\n",
    "width = 64\n",
    "channels = 3\n",
    "num_classes = 10\n",
    "\n",
    "model = Sequential()\n",
    "model.add(layers.SeparableConv2D(32, 3,\n",
    "                                activation='relu',\n",
    "                                input_shape=(height, width, channels)))\n",
    "model.add(layers.SeparableConv2D(64, 3, activation='relu'))\n",
    "model.add(layers.MaxPooling2D(2))\n",
    "\n",
    "model.add(layers.SeparableConv2D(64, 3, activation='relu'))\n",
    "model.add(layers.SeparableConv2D(128, 3, activation='relu'))\n",
    "model.add(layers.MaxPooling2D(2))\n",
    "\n",
    "model.add(layers.SeparableConv2D(64, 3, activation='relu'))\n",
    "model.add(layers.SeparableConv2D(128, 3, activation='relu'))\n",
    "model.add(layers.GlobalAveragePooling2D())\n",
    "\n",
    "model.add(layers.Dense(32, activation='relu'))\n",
    "model.add(layers.Dense(num_classes, activation='softmax'))\n",
    "\n",
    "model.compile(optimizer='rmsprop', loss='categorical_crossentropy')"
   ]
  },
  {
   "cell_type": "code",
   "execution_count": null,
   "metadata": {},
   "outputs": [],
   "source": []
  }
 ],
 "metadata": {
  "kernelspec": {
   "display_name": "Python 3",
   "language": "python",
   "name": "python3"
  },
  "language_info": {
   "codemirror_mode": {
    "name": "ipython",
    "version": 3
   },
   "file_extension": ".py",
   "mimetype": "text/x-python",
   "name": "python",
   "nbconvert_exporter": "python",
   "pygments_lexer": "ipython3",
   "version": "3.6.8"
  }
 },
 "nbformat": 4,
 "nbformat_minor": 2
}
