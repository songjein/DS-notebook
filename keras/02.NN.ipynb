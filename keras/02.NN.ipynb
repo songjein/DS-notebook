{
 "cells": [
  {
   "cell_type": "markdown",
   "metadata": {},
   "source": [
    "## 신경망(Neural Net)의 구조\n",
    "- Layers, 입력데이터/타겟(라벨), Loss Fucntion, Optimizer"
   ]
  },
  {
   "cell_type": "markdown",
   "metadata": {},
   "source": [
    "## Layer\n",
    "- Weight을 가지며\n",
    "- Fully connected / Densely connected Lyaer\n",
    "- Recurrent Layer\n",
    "- Convolution Layer 등이 있음\n",
    "\n",
    "## Model\n",
    "- 이러한 Layer를 이용해 하나의 네트워크를 구성할 수 있고,\n",
    "- 이는 Hypothesis Space를 정의하는 것"
   ]
  },
  {
   "cell_type": "markdown",
   "metadata": {},
   "source": [
    "## Loss Function ; Objective Function\n",
    "- 트레이닝 되는 동안 최소화 될 값을 출력함\n",
    "- 문제에 맞는 **올바른 목적 함수를 선택하는 것이 중요**\n",
    "- 기본 지침\n",
    "    - 2개 클래스 분류 문제: binary crossentropy; logistic loss, log loss\n",
    "    - n개 클래스 분류 문제: categorical crossentropy\n",
    "    - Regression 문제: Mean Squared Error\n",
    "    - Sequence 학습 문제: Connection Temporal Classification (CTC)\n",
    "        - 음석 인식이나 필기 인식 처럼 입력에 레이블 할당 위치를 정하기 어려운 연속 시퀀스를 다루는 문제에 사용\n",
    "\n",
    "## Optimizer\n",
    "- Loss Function을 기반으로 네트워크가 어떻게 업데이트 되야할지 결정\n",
    "- 여러 개의 출력을 내는 신경망도 있는데, 이는 여러 개의 Loss function을 가짐\n",
    "    - 하지만 SGD는 하나의 스칼라 손실 값을 기준으로 동작하기 때문에\n",
    "    - 모든 손실을 평균을 내 하나의 스칼라로 합쳐 계산함"
   ]
  },
  {
   "cell_type": "code",
   "execution_count": 6,
   "metadata": {},
   "outputs": [],
   "source": [
    "import numpy as np\n",
    "a = np.array([[1,2,3,4,], [5,6,7,8]])"
   ]
  },
  {
   "cell_type": "code",
   "execution_count": 7,
   "metadata": {},
   "outputs": [
    {
     "data": {
      "text/plain": [
       "array([[1, 2, 3, 4],\n",
       "       [5, 6, 7, 8]])"
      ]
     },
     "execution_count": 7,
     "metadata": {},
     "output_type": "execute_result"
    }
   ],
   "source": [
    "a"
   ]
  },
  {
   "cell_type": "code",
   "execution_count": 12,
   "metadata": {},
   "outputs": [
    {
     "data": {
      "text/plain": [
       "array([[ 1,  2,  3,  4],\n",
       "       [ 5,  6, 55,  8]])"
      ]
     },
     "execution_count": 12,
     "metadata": {},
     "output_type": "execute_result"
    }
   ],
   "source": [
    "a[1,2] = 55\n",
    "a"
   ]
  },
  {
   "cell_type": "code",
   "execution_count": 13,
   "metadata": {},
   "outputs": [
    {
     "data": {
      "text/plain": [
       "array([[  1,   2,   3,   4],\n",
       "       [  5,   6, 999,   8]])"
      ]
     },
     "execution_count": 13,
     "metadata": {},
     "output_type": "execute_result"
    }
   ],
   "source": [
    "a[1,[2]] = 999\n",
    "a"
   ]
  },
  {
   "cell_type": "code",
   "execution_count": null,
   "metadata": {},
   "outputs": [],
   "source": []
  }
 ],
 "metadata": {
  "kernelspec": {
   "display_name": "Python 3",
   "language": "python",
   "name": "python3"
  },
  "language_info": {
   "codemirror_mode": {
    "name": "ipython",
    "version": 3
   },
   "file_extension": ".py",
   "mimetype": "text/x-python",
   "name": "python",
   "nbconvert_exporter": "python",
   "pygments_lexer": "ipython3",
   "version": "3.6.5"
  }
 },
 "nbformat": 4,
 "nbformat_minor": 2
}
