{
 "cells": [
  {
   "cell_type": "markdown",
   "metadata": {},
   "source": [
    "## GPU 환경 설정에 관해"
   ]
  },
  {
   "cell_type": "markdown",
   "metadata": {},
   "source": [
    "Nvidia GPU 환경 아래서\n",
    "- CUDA: 병렬 컴퓨팅을 위해 저수준 프로그래밍 언어를 실행할 수 있는 GPU 드라이버 모음\n",
    "- cuDNN: 딥러닝을 위해 최적화된 연산 라이브러리"
   ]
  },
  {
   "cell_type": "markdown",
   "metadata": {},
   "source": [
    "텐서플로는 특정 버전의 CUDA, cuDNN을 쓰며, 문서를 참조해서 적절한 것을 설치\n",
    "- https://www.tensorflow.org/install/install_linux"
   ]
  },
  {
   "cell_type": "markdown",
   "metadata": {},
   "source": [
    "wget https://developer.download.nvidia.com/compute/cuda/repos/ubuntu1604/x86_64/cuda-repo-ubuntu1604_9.0.176-1_amd64.deb\n",
    "\n",
    "sudo dpkg -i cuda-repo-ubuntu16.04_9.0.176-1_amd64.deb\n",
    "sudo apt-key adv --fetch-keys http://developer.download.nvidia.com/compute/cuda/repos/ubuntu1604/x86_64/7fa2af80.pub\n",
    "sudo apt-get update\n",
    "sudo apt-get install cuda\n",
    "\n",
    "Nvidia계정 등록 후 cuDNN 설치?\n",
    "sudo dpkg -i dpk -i libcudnn7*.deb\n",
    "\n",
    "pip install tensorflow-gpu"
   ]
  },
  {
   "cell_type": "code",
   "execution_count": null,
   "metadata": {},
   "outputs": [],
   "source": []
  }
 ],
 "metadata": {
  "kernelspec": {
   "display_name": "Python 3",
   "language": "python",
   "name": "python3"
  },
  "language_info": {
   "codemirror_mode": {
    "name": "ipython",
    "version": 3
   },
   "file_extension": ".py",
   "mimetype": "text/x-python",
   "name": "python",
   "nbconvert_exporter": "python",
   "pygments_lexer": "ipython3",
   "version": "3.6.5"
  }
 },
 "nbformat": 4,
 "nbformat_minor": 2
}
