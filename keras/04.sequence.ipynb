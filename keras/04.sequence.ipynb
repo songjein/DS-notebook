{
 "cells": [
  {
   "cell_type": "markdown",
   "metadata": {},
   "source": [
    "## 텍스트와 시퀀스를 처리하는 기본적인 모델\n",
    "- Recurrent Neural network\n",
    "- 1D convnet"
   ]
  },
  {
   "cell_type": "markdown",
   "metadata": {},
   "source": [
    "## 애플리케이션\n",
    "- 문서, 시계열 분류 (글의 주제 혹은 저자 식별)\n",
    "- 시계열 비교, 두 시퀀스가 얼마나 밀접한 관련이 있는지\n",
    "- seq-to-seq 번역\n",
    "- 감성 분석 (긍/부정)\n",
    "- 시계열 예측, 어떤 지여그이 최근 날씨 데이터 -> 향후 날씨 예측\n",
    "- 질의 응답"
   ]
  },
  {
   "cell_type": "markdown",
   "metadata": {},
   "source": [
    "## 텍스트 데이터 다루기\n",
    "- 단어의 시퀀스 혹은 문자의 시퀀스\n",
    "- 문자 언어에 대한 통계적 구조를 만들어 간단한 문제 해결\n",
    "- 자연어 처리를 위한 딥러닝은 단어, 문장, 문단에 대한 **패턴 인식**\n",
    "- 텍스트를 처리하기 위해 **텍스트 벡터화(vectorizing text)** 해야함\n",
    "    - 텍스트를 단어로 나누고 각 단어를 하나의 벡터로 변환\n",
    "    - 텍스트를 문자로 나누고 각 문자를 하나의 벡터로 변환\n",
    "    - 텍스트에서 단어나 문자의 n-gram을 추출하여 각 n-gram을 하나의 벡터로 변환\n",
    "    "
   ]
  },
  {
   "cell_type": "markdown",
   "metadata": {},
   "source": [
    "## 텍스트 벡터화\n",
    "1. 토큰화(tokenization) \n",
    "2. 토큰에 수치형 벡터 연결\n",
    "    - one-hot encoding\n",
    "    - token embedding(word embedding; 일반적으로 단어에 적용하기 때문)"
   ]
  },
  {
   "cell_type": "markdown",
   "metadata": {},
   "source": [
    "## n-gram, BoW\n",
    "- word n-gram\n",
    "    - { The, The cat, cat, cat sat, sat, sat on, on, on the, ... } bag of 2-gram\n",
    "- Bag-of-Words ; 특정한 순서 x, 집합\n",
    "- But, 얕은 학습법에 적합한 방법임, 순서 정보가 다 사라져버림"
   ]
  },
  {
   "cell_type": "markdown",
   "metadata": {},
   "source": [
    "## 이후의 과정은 [링크](./deep-learning-with-python/6.1-one-hot-encoding-of-words-or-characters.ipynb)"
   ]
  },
  {
   "cell_type": "code",
   "execution_count": null,
   "metadata": {},
   "outputs": [],
   "source": []
  }
 ],
 "metadata": {
  "kernelspec": {
   "display_name": "Python 3",
   "language": "python",
   "name": "python3"
  },
  "language_info": {
   "codemirror_mode": {
    "name": "ipython",
    "version": 3
   },
   "file_extension": ".py",
   "mimetype": "text/x-python",
   "name": "python",
   "nbconvert_exporter": "python",
   "pygments_lexer": "ipython3",
   "version": "3.6.5"
  }
 },
 "nbformat": 4,
 "nbformat_minor": 2
}
